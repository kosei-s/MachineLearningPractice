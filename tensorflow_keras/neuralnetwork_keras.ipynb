{
  "nbformat": 4,
  "nbformat_minor": 0,
  "metadata": {
    "colab": {
      "name": "neuralnetwork_keras.ipynb",
      "provenance": [],
      "authorship_tag": "ABX9TyNLeTU386VWw+gUmS2IiiuV",
      "include_colab_link": true
    },
    "kernelspec": {
      "name": "python3",
      "display_name": "Python 3"
    }
  },
  "cells": [
    {
      "cell_type": "markdown",
      "metadata": {
        "id": "view-in-github",
        "colab_type": "text"
      },
      "source": [
        "<a href=\"https://colab.research.google.com/github/kosei-s/MachineLearningPractice/blob/master/tensorflow_keras/neuralnetwork_keras.ipynb\" target=\"_parent\"><img src=\"https://colab.research.google.com/assets/colab-badge.svg\" alt=\"Open In Colab\"/></a>"
      ]
    },
    {
      "cell_type": "markdown",
      "metadata": {
        "id": "30Ffyjt3MInI",
        "colab_type": "text"
      },
      "source": [
        "ニューラルネットワークとKeras"
      ]
    },
    {
      "cell_type": "code",
      "metadata": {
        "id": "EUWwD6l0MM_U",
        "colab_type": "code",
        "colab": {
          "base_uri": "https://localhost:8080/",
          "height": 97
        },
        "outputId": "8f690ccb-e9e6-4714-c41b-ea7781772308"
      },
      "source": [
        "from tensorflow.python.keras.datasets import mnist\n",
        "\n",
        "(x_train, y_train), (x_test, y_test) = mnist.load_data()"
      ],
      "execution_count": 1,
      "outputs": [
        {
          "output_type": "display_data",
          "data": {
            "text/html": [
              "<p style=\"color: red;\">\n",
              "The default version of TensorFlow in Colab will soon switch to TensorFlow 2.x.<br>\n",
              "We recommend you <a href=\"https://www.tensorflow.org/guide/migrate\" target=\"_blank\">upgrade</a> now \n",
              "or ensure your notebook will continue to use TensorFlow 1.x via the <code>%tensorflow_version 1.x</code> magic:\n",
              "<a href=\"https://colab.research.google.com/notebooks/tensorflow_version.ipynb\" target=\"_blank\">more info</a>.</p>\n"
            ],
            "text/plain": [
              "<IPython.core.display.HTML object>"
            ]
          },
          "metadata": {
            "tags": []
          }
        },
        {
          "output_type": "stream",
          "text": [
            "Downloading data from https://storage.googleapis.com/tensorflow/tf-keras-datasets/mnist.npz\n",
            "11493376/11490434 [==============================] - 0s 0us/step\n"
          ],
          "name": "stdout"
        }
      ]
    },
    {
      "cell_type": "code",
      "metadata": {
        "id": "k_ERqaRVMZ95",
        "colab_type": "code",
        "colab": {
          "base_uri": "https://localhost:8080/",
          "height": 85
        },
        "outputId": "a5a514eb-51ee-43f2-af79-1a65a25127ea"
      },
      "source": [
        "print('x_train.shape: ', x_train.shape)\n",
        "print('y_train.shape: ', y_train.shape)\n",
        "print('x_test.shape: ', x_test.shape)\n",
        "print('y_test.shape: ', y_test.shape)"
      ],
      "execution_count": 3,
      "outputs": [
        {
          "output_type": "stream",
          "text": [
            "x_train.shape:  (60000, 28, 28)\n",
            "y_train.shape:  (60000,)\n",
            "x_test.shape:  (10000, 28, 28)\n",
            "y_test.shape:  (10000,)\n"
          ],
          "name": "stdout"
        }
      ]
    },
    {
      "cell_type": "code",
      "metadata": {
        "id": "fR4bhITlM_64",
        "colab_type": "code",
        "colab": {}
      },
      "source": [
        "x_train = x_train.reshape(60000, 784)\n",
        "x_train = x_train / 255.\n",
        "x_test = x_test.reshape(10000, 784)\n",
        "x_test = x_test / 255."
      ],
      "execution_count": 0,
      "outputs": []
    },
    {
      "cell_type": "code",
      "metadata": {
        "id": "znsQzoKoOSzg",
        "colab_type": "code",
        "colab": {}
      },
      "source": [
        "from tensorflow.python.keras.utils import to_categorical\n",
        "\n",
        "y_train = to_categorical(y_train, 10)\n",
        "y_test = to_categorical(y_test, 10)"
      ],
      "execution_count": 0,
      "outputs": []
    },
    {
      "cell_type": "code",
      "metadata": {
        "id": "GGj7vHvqOxJy",
        "colab_type": "code",
        "colab": {}
      },
      "source": [
        "from tensorflow.python.keras.models import Sequential\n",
        "\n",
        "model = Sequential()"
      ],
      "execution_count": 0,
      "outputs": []
    },
    {
      "cell_type": "code",
      "metadata": {
        "id": "UV0E7_B2O3p7",
        "colab_type": "code",
        "colab": {
          "base_uri": "https://localhost:8080/",
          "height": 88
        },
        "outputId": "0488a327-59d1-45de-f994-370a4c9096e9"
      },
      "source": [
        "from tensorflow.python.keras.layers import Dense\n",
        "\n",
        "model.add(\n",
        "    Dense(\n",
        "        units=64,\n",
        "        input_shape=(784,),\n",
        "        activation='relu'\n",
        "    )\n",
        ")"
      ],
      "execution_count": 10,
      "outputs": [
        {
          "output_type": "stream",
          "text": [
            "WARNING:tensorflow:From /usr/local/lib/python3.6/dist-packages/tensorflow_core/python/ops/resource_variable_ops.py:1630: calling BaseResourceVariable.__init__ (from tensorflow.python.ops.resource_variable_ops) with constraint is deprecated and will be removed in a future version.\n",
            "Instructions for updating:\n",
            "If using Keras pass *_constraint arguments to layers.\n"
          ],
          "name": "stdout"
        }
      ]
    },
    {
      "cell_type": "code",
      "metadata": {
        "id": "9ulVffdRP6y3",
        "colab_type": "code",
        "colab": {}
      },
      "source": [
        "model.add(\n",
        "    Dense(\n",
        "        units=10,\n",
        "        activation='softmax'\n",
        "    )\n",
        ")"
      ],
      "execution_count": 0,
      "outputs": []
    },
    {
      "cell_type": "code",
      "metadata": {
        "id": "vCAnS0NQQxi5",
        "colab_type": "code",
        "colab": {
          "base_uri": "https://localhost:8080/",
          "height": 731
        },
        "outputId": "8b8e2ec3-f4fb-4d93-ab7a-1489172dd197"
      },
      "source": [
        "from tensorflow.python.keras.callbacks import TensorBoard\n",
        "\n",
        "model.compile(\n",
        "    optimizer='adam',\n",
        "    loss='categorical_crossentropy',\n",
        "    metrics=['accuracy']\n",
        ")\n",
        "tsb = TensorBoard(log_dir='./log')\n",
        "model.fit(\n",
        "    x_train,\n",
        "    y_train,\n",
        "    batch_size=32,\n",
        "    epochs=20,\n",
        "    validation_split=0.2,\n",
        "    callbacks=[tsb]\n",
        ")"
      ],
      "execution_count": 12,
      "outputs": [
        {
          "output_type": "stream",
          "text": [
            "Train on 48000 samples, validate on 12000 samples\n",
            "Epoch 1/20\n",
            "48000/48000 [==============================] - 3s 73us/sample - loss: 0.3447 - acc: 0.9037 - val_loss: 0.1922 - val_acc: 0.9444\n",
            "Epoch 2/20\n",
            "48000/48000 [==============================] - 3s 68us/sample - loss: 0.1705 - acc: 0.9506 - val_loss: 0.1504 - val_acc: 0.9556\n",
            "Epoch 3/20\n",
            "48000/48000 [==============================] - 3s 66us/sample - loss: 0.1236 - acc: 0.9632 - val_loss: 0.1415 - val_acc: 0.9575\n",
            "Epoch 4/20\n",
            "48000/48000 [==============================] - 3s 67us/sample - loss: 0.0973 - acc: 0.9717 - val_loss: 0.1208 - val_acc: 0.9636\n",
            "Epoch 5/20\n",
            "48000/48000 [==============================] - 3s 67us/sample - loss: 0.0797 - acc: 0.9760 - val_loss: 0.1111 - val_acc: 0.9673\n",
            "Epoch 6/20\n",
            "48000/48000 [==============================] - 3s 72us/sample - loss: 0.0650 - acc: 0.9805 - val_loss: 0.1146 - val_acc: 0.9672\n",
            "Epoch 7/20\n",
            "48000/48000 [==============================] - 4s 77us/sample - loss: 0.0568 - acc: 0.9827 - val_loss: 0.1062 - val_acc: 0.9693\n",
            "Epoch 8/20\n",
            "48000/48000 [==============================] - 3s 67us/sample - loss: 0.0479 - acc: 0.9854 - val_loss: 0.1076 - val_acc: 0.9700\n",
            "Epoch 9/20\n",
            "48000/48000 [==============================] - 3s 66us/sample - loss: 0.0410 - acc: 0.9878 - val_loss: 0.1006 - val_acc: 0.9718\n",
            "Epoch 10/20\n",
            "48000/48000 [==============================] - 3s 67us/sample - loss: 0.0359 - acc: 0.9891 - val_loss: 0.1116 - val_acc: 0.9704\n",
            "Epoch 11/20\n",
            "48000/48000 [==============================] - 3s 66us/sample - loss: 0.0309 - acc: 0.9906 - val_loss: 0.1127 - val_acc: 0.9692\n",
            "Epoch 12/20\n",
            "48000/48000 [==============================] - 3s 69us/sample - loss: 0.0275 - acc: 0.9916 - val_loss: 0.1083 - val_acc: 0.9703\n",
            "Epoch 13/20\n",
            "48000/48000 [==============================] - 4s 73us/sample - loss: 0.0234 - acc: 0.9928 - val_loss: 0.1129 - val_acc: 0.9723\n",
            "Epoch 14/20\n",
            "48000/48000 [==============================] - 3s 72us/sample - loss: 0.0205 - acc: 0.9941 - val_loss: 0.1186 - val_acc: 0.9708\n",
            "Epoch 15/20\n",
            "48000/48000 [==============================] - 3s 69us/sample - loss: 0.0184 - acc: 0.9942 - val_loss: 0.1142 - val_acc: 0.9715\n",
            "Epoch 16/20\n",
            "48000/48000 [==============================] - 3s 66us/sample - loss: 0.0177 - acc: 0.9945 - val_loss: 0.1183 - val_acc: 0.9723\n",
            "Epoch 17/20\n",
            "48000/48000 [==============================] - 3s 68us/sample - loss: 0.0142 - acc: 0.9957 - val_loss: 0.1193 - val_acc: 0.9720\n",
            "Epoch 18/20\n",
            "48000/48000 [==============================] - 3s 67us/sample - loss: 0.0120 - acc: 0.9967 - val_loss: 0.1303 - val_acc: 0.9709\n",
            "Epoch 19/20\n",
            "48000/48000 [==============================] - 3s 68us/sample - loss: 0.0120 - acc: 0.9966 - val_loss: 0.1281 - val_acc: 0.9725\n",
            "Epoch 20/20\n",
            "48000/48000 [==============================] - 3s 68us/sample - loss: 0.0095 - acc: 0.9977 - val_loss: 0.1203 - val_acc: 0.9732\n"
          ],
          "name": "stdout"
        },
        {
          "output_type": "execute_result",
          "data": {
            "text/plain": [
              "<tensorflow.python.keras.callbacks.History at 0x7f17f3f0ef60>"
            ]
          },
          "metadata": {
            "tags": []
          },
          "execution_count": 12
        }
      ]
    },
    {
      "cell_type": "code",
      "metadata": {
        "id": "MSjM6Ho6Sz9U",
        "colab_type": "code",
        "colab": {}
      },
      "source": [
        ""
      ],
      "execution_count": 0,
      "outputs": []
    }
  ]
}