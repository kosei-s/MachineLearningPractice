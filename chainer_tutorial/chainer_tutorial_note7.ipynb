{
  "nbformat": 4,
  "nbformat_minor": 0,
  "metadata": {
    "colab": {
      "name": "chainer_tutorial_note7.ipynb",
      "provenance": [],
      "include_colab_link": true
    },
    "kernelspec": {
      "name": "python3",
      "display_name": "Python 3"
    },
    "accelerator": "GPU"
  },
  "cells": [
    {
      "cell_type": "markdown",
      "metadata": {
        "id": "view-in-github",
        "colab_type": "text"
      },
      "source": [
        "<a href=\"https://colab.research.google.com/github/kosei-s/MachineLearningPractice/blob/master/chainer_tutorial/chainer_tutorial_note7.ipynb\" target=\"_parent\"><img src=\"https://colab.research.google.com/assets/colab-badge.svg\" alt=\"Open In Colab\"/></a>"
      ]
    },
    {
      "cell_type": "code",
      "metadata": {
        "id": "EtNdnmeiRfoE",
        "colab_type": "code",
        "colab": {}
      },
      "source": [
        "from sklearn.datasets import load_iris\n",
        "\n",
        "x, t = load_iris(return_X_y=True)\n",
        "x = x.astype('float32')\n",
        "t = t.astype('int32')"
      ],
      "execution_count": 0,
      "outputs": []
    },
    {
      "cell_type": "code",
      "metadata": {
        "id": "z6hEzaSESXRO",
        "colab_type": "code",
        "colab": {}
      },
      "source": [
        "from chainer.datasets import TupleDataset\n",
        "\n",
        "dataset = TupleDataset(x, t)"
      ],
      "execution_count": 0,
      "outputs": []
    },
    {
      "cell_type": "code",
      "metadata": {
        "id": "U2uNTNV5TKzZ",
        "colab_type": "code",
        "outputId": "7bc06959-3b82-4bd4-8fe4-f34533abf9c3",
        "colab": {
          "base_uri": "https://localhost:8080/",
          "height": 34
        }
      },
      "source": [
        "dataset[0]"
      ],
      "execution_count": 0,
      "outputs": [
        {
          "output_type": "execute_result",
          "data": {
            "text/plain": [
              "(array([5.1, 3.5, 1.4, 0.2], dtype=float32), 0)"
            ]
          },
          "metadata": {
            "tags": []
          },
          "execution_count": 23
        }
      ]
    },
    {
      "cell_type": "code",
      "metadata": {
        "id": "n_q4BJ0pTYS0",
        "colab_type": "code",
        "outputId": "3879d949-457b-463d-9359-d95d4ead3a07",
        "colab": {
          "base_uri": "https://localhost:8080/",
          "height": 51
        }
      },
      "source": [
        "dataset[:2]"
      ],
      "execution_count": 0,
      "outputs": [
        {
          "output_type": "execute_result",
          "data": {
            "text/plain": [
              "[(array([5.1, 3.5, 1.4, 0.2], dtype=float32), 0),\n",
              " (array([4.9, 3. , 1.4, 0.2], dtype=float32), 0)]"
            ]
          },
          "metadata": {
            "tags": []
          },
          "execution_count": 24
        }
      ]
    },
    {
      "cell_type": "code",
      "metadata": {
        "id": "t0NQhO38TfX0",
        "colab_type": "code",
        "outputId": "341d1b31-bb78-4365-cadc-0d3f0bfb2fe3",
        "colab": {
          "base_uri": "https://localhost:8080/",
          "height": 102
        }
      },
      "source": [
        "dataset[:10:2]"
      ],
      "execution_count": 0,
      "outputs": [
        {
          "output_type": "execute_result",
          "data": {
            "text/plain": [
              "[(array([5.1, 3.5, 1.4, 0.2], dtype=float32), 0),\n",
              " (array([4.7, 3.2, 1.3, 0.2], dtype=float32), 0),\n",
              " (array([5. , 3.6, 1.4, 0.2], dtype=float32), 0),\n",
              " (array([4.6, 3.4, 1.4, 0.3], dtype=float32), 0),\n",
              " (array([4.4, 2.9, 1.4, 0.2], dtype=float32), 0)]"
            ]
          },
          "metadata": {
            "tags": []
          },
          "execution_count": 25
        }
      ]
    },
    {
      "cell_type": "code",
      "metadata": {
        "id": "XcAnUDyATqdQ",
        "colab_type": "code",
        "colab": {}
      },
      "source": [
        "from chainer.datasets import split_dataset_random\n",
        "\n",
        "train_val, test = split_dataset_random(dataset, int(len(dataset) * 0.7), seed=0)\n",
        "train, valid = split_dataset_random(train_val, int(len(train_val) * 0.7), seed=0)"
      ],
      "execution_count": 0,
      "outputs": []
    },
    {
      "cell_type": "code",
      "metadata": {
        "id": "kvpzKbpvUenI",
        "colab_type": "code",
        "outputId": "e9ad23ea-2989-43ce-f1aa-7709d37c5d2b",
        "colab": {
          "base_uri": "https://localhost:8080/",
          "height": 85
        }
      },
      "source": [
        "from chainer.iterators import SerialIterator\n",
        "\n",
        "train_iter = SerialIterator(train, batch_size=4, repeat=True, shuffle=True)\n",
        "\n",
        "minibatch = train_iter.next()\n",
        "\n",
        "minibatch"
      ],
      "execution_count": 0,
      "outputs": [
        {
          "output_type": "execute_result",
          "data": {
            "text/plain": [
              "[(array([6.1, 2.6, 5.6, 1.4], dtype=float32), 2),\n",
              " (array([6.1, 2.9, 4.7, 1.4], dtype=float32), 1),\n",
              " (array([5.7, 4.4, 1.5, 0.4], dtype=float32), 0),\n",
              " (array([6.3, 2.8, 5.1, 1.5], dtype=float32), 2)]"
            ]
          },
          "metadata": {
            "tags": []
          },
          "execution_count": 27
        }
      ]
    },
    {
      "cell_type": "code",
      "metadata": {
        "id": "6TGE40GUWBdf",
        "colab_type": "code",
        "colab": {}
      },
      "source": [
        "import chainer\n",
        "import chainer.links as L\n",
        "import chainer.functions as F\n",
        "\n",
        "class Net(chainer.Chain):\n",
        "  \n",
        "  def __init__(self, n_in=4, n_hidden=3, n_out=3):\n",
        "    super().__init__()\n",
        "    with self.init_scope():\n",
        "      self.l1 = L.Linear(n_in, n_hidden)\n",
        "      self.l2 = L.Linear(n_hidden, n_hidden)\n",
        "      self.l3 = L.Linear(n_hidden, n_out)\n",
        "    \n",
        "  def forward(self, x):\n",
        "    h = F.relu(self.l1(x))\n",
        "    h = F.relu(self.l2(x))\n",
        "    h = self.l3(x)\n",
        "    \n",
        "    return h\n",
        "\n",
        "net = Net()"
      ],
      "execution_count": 0,
      "outputs": []
    },
    {
      "cell_type": "code",
      "metadata": {
        "id": "SA16vyA2h0YN",
        "colab_type": "code",
        "colab": {}
      },
      "source": [
        "from chainer import optimizers\n",
        "from chainer.optimizer_hooks import WeightDecay\n",
        "\n",
        "optimizer = optimizers.MomentumSGD(lr=0.001, momentum=0.9)\n",
        "optimizer.setup(net)\n",
        "\n",
        "for param in net.params():\n",
        "  if param.name != 'b':\n",
        "    param.update_rule.add_hook(WeightDecay(0.0001))"
      ],
      "execution_count": 0,
      "outputs": []
    },
    {
      "cell_type": "code",
      "metadata": {
        "id": "CyX6k4G-ol8A",
        "colab_type": "code",
        "outputId": "0dfe057d-61ad-4b98-bf3f-735ecfe1612f",
        "colab": {
          "base_uri": "https://localhost:8080/",
          "height": 236
        }
      },
      "source": [
        "gpu_id = 0\n",
        "n_epoch = 64\n",
        "n_batchsize = 50\n",
        "\n",
        "net.to_gpu(gpu_id)\n",
        "\n",
        "results_train, results_valid = {}, {}\n",
        "results_train['loss'], results_train['accuracy'] = [], []\n",
        "results_valid['loss'], results_valid['accuracy'] = [], []\n",
        "\n",
        "train_iter.reset()\n",
        "\n",
        "count = 1\n",
        "\n",
        "for epoch in range(n_epoch):\n",
        "  \n",
        "  while True:\n",
        "    \n",
        "    train_batch = train_iter.next()\n",
        "    \n",
        "    x_train, t_train = chainer.dataset.concat_examples(train_batch, gpu_id)\n",
        "    \n",
        "    y_train = net(x_train.array)\n",
        "    loss_train = F.softbax_cross_entropy(y_train, t_train)\n",
        "    acc_train = F.accuracy(y_train, t_train)\n",
        "    \n",
        "    net.cleargrads()\n",
        "    loss_train.backward()\n",
        "    \n",
        "    optimizer.update()\n",
        "    \n",
        "    count += 1\n",
        "    \n",
        "    if train_iter.is_new_epoch:\n",
        "      with chainer.using_config('train', False), chainer.using_config('enable_backprop', False):\n",
        "        x_valid, t_valid = chainer.dataset.concat_examples(valid, gpu_id)\n",
        "        y_valid = net(x_valid)\n",
        "        loss_valid = F.softmax_cross_entropy(y_valid, t_valid)\n",
        "        acc_valid = F.accuracy(y_valid, t_valid)\n",
        "          \n",
        "      loss_train.to_cpu()\n",
        "      loss_valid.to_cpu()\n",
        "      acc_train.to_cpu()\n",
        "      acc_valid.to_cpu()\n",
        "        \n",
        "      print('epoch: {}, iteration: {}, loss (train): {:.4f}, loss (valid): {:.4f}, acc (train): {:.4f}, acc(valid): {:.4f}'.format(\n",
        "                  epoch, count, loss_train.array.mean(), loss_valid.array.mean(), acc_train.array.mean(), acc_valid.array.mean()))\n",
        "        \n",
        "      results_train['loss'].append(loss_train.array)\n",
        "      results_train['accuracy'].append(acc_train.array)\n",
        "      results_valid['loss'].append(loss_valid.array)\n",
        "      results_valid['accuracy'].append(acc_valid.array)\n",
        "        \n",
        "      break"
      ],
      "execution_count": 0,
      "outputs": [
        {
          "output_type": "error",
          "ename": "AttributeError",
          "evalue": "ignored",
          "traceback": [
            "\u001b[0;31m---------------------------------------------------------------------------\u001b[0m",
            "\u001b[0;31mAttributeError\u001b[0m                            Traceback (most recent call last)",
            "\u001b[0;32m<ipython-input-31-3bf82595bc95>\u001b[0m in \u001b[0;36m<module>\u001b[0;34m()\u001b[0m\n\u001b[1;32m     21\u001b[0m     \u001b[0mx_train\u001b[0m\u001b[0;34m,\u001b[0m \u001b[0mt_train\u001b[0m \u001b[0;34m=\u001b[0m \u001b[0mchainer\u001b[0m\u001b[0;34m.\u001b[0m\u001b[0mdataset\u001b[0m\u001b[0;34m.\u001b[0m\u001b[0mconcat_examples\u001b[0m\u001b[0;34m(\u001b[0m\u001b[0mtrain_batch\u001b[0m\u001b[0;34m,\u001b[0m \u001b[0mgpu_id\u001b[0m\u001b[0;34m)\u001b[0m\u001b[0;34m\u001b[0m\u001b[0;34m\u001b[0m\u001b[0m\n\u001b[1;32m     22\u001b[0m \u001b[0;34m\u001b[0m\u001b[0m\n\u001b[0;32m---> 23\u001b[0;31m     \u001b[0my_train\u001b[0m \u001b[0;34m=\u001b[0m \u001b[0mnet\u001b[0m\u001b[0;34m(\u001b[0m\u001b[0mx_train\u001b[0m\u001b[0;34m.\u001b[0m\u001b[0marray\u001b[0m\u001b[0;34m)\u001b[0m\u001b[0;34m\u001b[0m\u001b[0;34m\u001b[0m\u001b[0m\n\u001b[0m\u001b[1;32m     24\u001b[0m     \u001b[0mloss_train\u001b[0m \u001b[0;34m=\u001b[0m \u001b[0mF\u001b[0m\u001b[0;34m.\u001b[0m\u001b[0msoftbax_cross_entropy\u001b[0m\u001b[0;34m(\u001b[0m\u001b[0my_train\u001b[0m\u001b[0;34m,\u001b[0m \u001b[0mt_train\u001b[0m\u001b[0;34m)\u001b[0m\u001b[0;34m\u001b[0m\u001b[0;34m\u001b[0m\u001b[0m\n\u001b[1;32m     25\u001b[0m     \u001b[0macc_train\u001b[0m \u001b[0;34m=\u001b[0m \u001b[0mF\u001b[0m\u001b[0;34m.\u001b[0m\u001b[0maccuracy\u001b[0m\u001b[0;34m(\u001b[0m\u001b[0my_train\u001b[0m\u001b[0;34m,\u001b[0m \u001b[0mt_train\u001b[0m\u001b[0;34m)\u001b[0m\u001b[0;34m\u001b[0m\u001b[0;34m\u001b[0m\u001b[0m\n",
            "\u001b[0;31mAttributeError\u001b[0m: 'cupy.core.core.ndarray' object has no attribute 'array'"
          ]
        }
      ]
    },
    {
      "cell_type": "code",
      "metadata": {
        "id": "-yF48GKzvlyd",
        "colab_type": "code",
        "outputId": "72ed5ec0-0c21-4e72-a2ff-557fb9101e95",
        "colab": {
          "base_uri": "https://localhost:8080/",
          "height": 34
        }
      },
      "source": [
        "!python --version"
      ],
      "execution_count": 0,
      "outputs": [
        {
          "output_type": "stream",
          "text": [
            "Python 3.6.8\n"
          ],
          "name": "stdout"
        }
      ]
    },
    {
      "cell_type": "code",
      "metadata": {
        "id": "XcmMPRH62zr6",
        "colab_type": "code",
        "colab": {}
      },
      "source": [
        ""
      ],
      "execution_count": 0,
      "outputs": []
    }
  ]
}