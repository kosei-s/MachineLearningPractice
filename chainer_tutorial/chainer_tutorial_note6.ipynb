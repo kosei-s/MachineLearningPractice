{
  "nbformat": 4,
  "nbformat_minor": 0,
  "metadata": {
    "colab": {
      "name": "chainer_tutorial_note6.ipynb",
      "provenance": [],
      "include_colab_link": true
    },
    "kernelspec": {
      "name": "python3",
      "display_name": "Python 3"
    },
    "accelerator": "GPU"
  },
  "cells": [
    {
      "cell_type": "markdown",
      "metadata": {
        "id": "view-in-github",
        "colab_type": "text"
      },
      "source": [
        "<a href=\"https://colab.research.google.com/github/kosei-s/MachineLearningPractice/blob/master/chainer_tutorial/chainer_tutorial_note6.ipynb\" target=\"_parent\"><img src=\"https://colab.research.google.com/assets/colab-badge.svg\" alt=\"Open In Colab\"/></a>"
      ]
    },
    {
      "cell_type": "markdown",
      "metadata": {
        "id": "XI-cwImqf9mL",
        "colab_type": "text"
      },
      "source": [
        "## 14章"
      ]
    },
    {
      "cell_type": "code",
      "metadata": {
        "id": "xCYCgaJOgAVm",
        "colab_type": "code",
        "colab": {}
      },
      "source": [
        "import chainer"
      ],
      "execution_count": 0,
      "outputs": []
    },
    {
      "cell_type": "code",
      "metadata": {
        "id": "xk7E5jfogFmR",
        "colab_type": "code",
        "outputId": "29e6052e-a485-44f1-b9bc-c601142e927c",
        "colab": {
          "base_uri": "https://localhost:8080/",
          "height": 255
        }
      },
      "source": [
        "chainer.print_runtime_info()"
      ],
      "execution_count": 0,
      "outputs": [
        {
          "output_type": "stream",
          "text": [
            "Platform: Linux-4.14.79+-x86_64-with-Ubuntu-18.04-bionic\n",
            "Chainer: 5.4.0\n",
            "NumPy: 1.16.4\n",
            "CuPy:\n",
            "  CuPy Version          : 5.4.0\n",
            "  CUDA Root             : /usr/local/cuda\n",
            "  CUDA Build Version    : 10000\n",
            "  CUDA Driver Version   : 10000\n",
            "  CUDA Runtime Version  : 10000\n",
            "  cuDNN Build Version   : 7301\n",
            "  cuDNN Version         : 7301\n",
            "  NCCL Build Version    : 2402\n",
            "  NCCL Runtime Version  : 2402\n",
            "iDeep: 2.0.0.post3\n"
          ],
          "name": "stdout"
        }
      ]
    },
    {
      "cell_type": "code",
      "metadata": {
        "id": "vgeHd99_gMko",
        "colab_type": "code",
        "outputId": "2eba8cb1-8c6e-4514-f1c8-14b2ce1a864d",
        "colab": {
          "base_uri": "https://localhost:8080/",
          "height": 51
        }
      },
      "source": [
        "from sklearn.datasets import load_iris\n",
        "\n",
        "x, t = load_iris(return_X_y=True)\n",
        "\n",
        "print('x: ', x.shape)\n",
        "print('t: ', t.shape)"
      ],
      "execution_count": 0,
      "outputs": [
        {
          "output_type": "stream",
          "text": [
            "x:  (150, 4)\n",
            "t:  (150,)\n"
          ],
          "name": "stdout"
        }
      ]
    },
    {
      "cell_type": "code",
      "metadata": {
        "id": "IHd8ggceV6n5",
        "colab_type": "code",
        "colab": {}
      },
      "source": [
        "x = x.astype('float32')\n",
        "t = t.astype('int32')"
      ],
      "execution_count": 0,
      "outputs": []
    },
    {
      "cell_type": "code",
      "metadata": {
        "id": "x-ZmwPfCXFeI",
        "colab_type": "code",
        "colab": {}
      },
      "source": [
        "from sklearn.model_selection import train_test_split\n",
        "\n",
        "x_train_val, x_test, t_train_val, t_test = train_test_split(x, t, test_size=0.3, random_state=0)"
      ],
      "execution_count": 0,
      "outputs": []
    },
    {
      "cell_type": "code",
      "metadata": {
        "id": "41He0fGmXn9E",
        "colab_type": "code",
        "colab": {}
      },
      "source": [
        "x_train, x_val, t_train, t_val = train_test_split(x_train_val, t_train_val, test_size=0.3, random_state=0)"
      ],
      "execution_count": 0,
      "outputs": []
    },
    {
      "cell_type": "code",
      "metadata": {
        "id": "gija-U-EYOx3",
        "colab_type": "code",
        "colab": {}
      },
      "source": [
        "import chainer.links as L\n",
        "import chainer.functions as F"
      ],
      "execution_count": 0,
      "outputs": []
    },
    {
      "cell_type": "code",
      "metadata": {
        "id": "ChO_IKSrZ1G2",
        "colab_type": "code",
        "colab": {}
      },
      "source": [
        "from chainer import Sequential\n",
        "\n",
        "n_input = 4\n",
        "n_hidden = 10\n",
        "n_output = 3\n",
        "\n",
        "net = Sequential(\n",
        "    L.Linear(n_input, n_hidden), F.relu,\n",
        "    L.Linear(n_hidden, n_hidden), F.relu,\n",
        "    L.Linear(n_hidden, n_output)\n",
        ")"
      ],
      "execution_count": 0,
      "outputs": []
    },
    {
      "cell_type": "code",
      "metadata": {
        "id": "wyvZUQ0ma8QE",
        "colab_type": "code",
        "colab": {}
      },
      "source": [
        "optimizer = chainer.optimizers.SGD(lr=0.01)"
      ],
      "execution_count": 0,
      "outputs": []
    },
    {
      "cell_type": "code",
      "metadata": {
        "id": "E9UeyUUgb6EO",
        "colab_type": "code",
        "outputId": "3d17ccb5-6af2-430d-88d5-933589793eef",
        "colab": {
          "base_uri": "https://localhost:8080/",
          "height": 34
        }
      },
      "source": [
        "optimizer.setup(net)"
      ],
      "execution_count": 0,
      "outputs": [
        {
          "output_type": "execute_result",
          "data": {
            "text/plain": [
              "<chainer.optimizers.sgd.SGD at 0x7f48ee1877b8>"
            ]
          },
          "metadata": {
            "tags": []
          },
          "execution_count": 22
        }
      ]
    },
    {
      "cell_type": "code",
      "metadata": {
        "id": "BslZ4qgyb-zy",
        "colab_type": "code",
        "colab": {}
      },
      "source": [
        "n_epoch = 30\n",
        "n_batchsize = 16"
      ],
      "execution_count": 0,
      "outputs": []
    },
    {
      "cell_type": "code",
      "metadata": {
        "id": "CV_RKwRSca8A",
        "colab_type": "code",
        "colab": {}
      },
      "source": [
        "import numpy as np"
      ],
      "execution_count": 0,
      "outputs": []
    },
    {
      "cell_type": "code",
      "metadata": {
        "id": "KyYhCrZyoeGe",
        "colab_type": "code",
        "outputId": "e0efce75-463d-45b1-c41d-43337aee5c27",
        "colab": {
          "base_uri": "https://localhost:8080/",
          "height": 527
        }
      },
      "source": [
        "iteration = 0\n",
        "\n",
        "results_train = {\n",
        "    'loss': [],\n",
        "    'accuracy': []\n",
        "}\n",
        "results_valid = {\n",
        "    'loss': [],\n",
        "    'accuracy': []\n",
        "}\n",
        "\n",
        "for epoch in range(n_epoch):\n",
        "  order = np.random.permutation(range(len(x_train)))\n",
        "  \n",
        "  loss_list = []\n",
        "  accuracy_list = []\n",
        "  \n",
        "  for i in range(0, len(order), n_batchsize):\n",
        "    index = order[i:i+n_batchsize]\n",
        "    x_train_batch = x_train[index, :]\n",
        "    t_train_batch = t_train[index]\n",
        "    \n",
        "    y_train_batch = net(x_train_batch)\n",
        "    \n",
        "    loss_train_batch = F.softmax_cross_entropy(y_train_batch, t_train_batch)\n",
        "    accuracy_train_batch = F.accuracy(y_train_batch, t_train_batch)\n",
        "    \n",
        "    loss_list.append(loss_train_batch.array)\n",
        "    accuracy_list.append(accuracy_train_batch.array)\n",
        "    \n",
        "    net.cleargrads()\n",
        "    loss_train_batch.backward()\n",
        "    \n",
        "    optimizer.update()\n",
        "    \n",
        "    iteration += 1\n",
        "  \n",
        "  loss_train = np.mean(loss_list)\n",
        "  accuracy_train = np.mean(accuracy_list)\n",
        "  \n",
        "  with chainer.using_config('train', False), chainer.using_config('enable_backprop', False):\n",
        "    y_val = net(x_val)\n",
        "  \n",
        "  loss_val = F.softmax_cross_entropy(y_val, t_val)\n",
        "  accuracy_val = F.accuracy(y_val, t_val)\n",
        "  \n",
        "  print('epoch: {}, iteration: {}, loss (train): {:.4f}, loss (valid): {:.4f}'.format(epoch, iteration, loss_train, loss_val.array))\n",
        "  \n",
        "  results_train['loss'].append(loss_train)\n",
        "  results_train['accuracy'].append(accuracy_train)\n",
        "  results_valid['loss'].append(loss_val.array)\n",
        "  results_valid['accuracy'].append(accuracy_val.array)"
      ],
      "execution_count": 0,
      "outputs": [
        {
          "output_type": "stream",
          "text": [
            "epoch: 0, iteration: 5, loss (train): 1.2795, loss (valid): 1.0253\n",
            "epoch: 1, iteration: 10, loss (train): 1.0393, loss (valid): 0.9688\n",
            "epoch: 2, iteration: 15, loss (train): 0.9408, loss (valid): 0.9503\n",
            "epoch: 3, iteration: 20, loss (train): 0.9264, loss (valid): 0.9344\n",
            "epoch: 4, iteration: 25, loss (train): 0.9047, loss (valid): 0.9269\n",
            "epoch: 5, iteration: 30, loss (train): 0.9015, loss (valid): 0.9155\n",
            "epoch: 6, iteration: 35, loss (train): 0.8787, loss (valid): 0.9019\n",
            "epoch: 7, iteration: 40, loss (train): 0.8591, loss (valid): 0.8982\n",
            "epoch: 8, iteration: 45, loss (train): 0.8465, loss (valid): 0.8842\n",
            "epoch: 9, iteration: 50, loss (train): 0.8449, loss (valid): 0.8629\n",
            "epoch: 10, iteration: 55, loss (train): 0.8166, loss (valid): 0.8521\n",
            "epoch: 11, iteration: 60, loss (train): 0.8242, loss (valid): 0.8277\n",
            "epoch: 12, iteration: 65, loss (train): 0.7991, loss (valid): 0.8104\n",
            "epoch: 13, iteration: 70, loss (train): 0.7714, loss (valid): 0.8098\n",
            "epoch: 14, iteration: 75, loss (train): 0.7685, loss (valid): 0.7789\n",
            "epoch: 15, iteration: 80, loss (train): 0.7341, loss (valid): 0.7931\n",
            "epoch: 16, iteration: 85, loss (train): 0.7426, loss (valid): 0.7428\n",
            "epoch: 17, iteration: 90, loss (train): 0.7279, loss (valid): 0.7286\n",
            "epoch: 18, iteration: 95, loss (train): 0.7196, loss (valid): 0.7132\n",
            "epoch: 19, iteration: 100, loss (train): 0.7032, loss (valid): 0.6931\n",
            "epoch: 20, iteration: 105, loss (train): 0.6804, loss (valid): 0.6698\n",
            "epoch: 21, iteration: 110, loss (train): 0.6604, loss (valid): 0.6497\n",
            "epoch: 22, iteration: 115, loss (train): 0.6644, loss (valid): 0.6286\n",
            "epoch: 23, iteration: 120, loss (train): 0.6520, loss (valid): 0.6104\n",
            "epoch: 24, iteration: 125, loss (train): 0.6276, loss (valid): 0.5910\n",
            "epoch: 25, iteration: 130, loss (train): 0.6152, loss (valid): 0.5771\n",
            "epoch: 26, iteration: 135, loss (train): 0.5996, loss (valid): 0.5651\n",
            "epoch: 27, iteration: 140, loss (train): 0.5792, loss (valid): 0.5440\n",
            "epoch: 28, iteration: 145, loss (train): 0.5685, loss (valid): 0.5320\n",
            "epoch: 29, iteration: 150, loss (train): 0.5560, loss (valid): 0.5081\n"
          ],
          "name": "stdout"
        }
      ]
    },
    {
      "cell_type": "code",
      "metadata": {
        "id": "6nCGX-3k-Mqo",
        "colab_type": "code",
        "colab": {}
      },
      "source": [
        "%matplotlib inline\n",
        "import matplotlib.pyplot as plt"
      ],
      "execution_count": 0,
      "outputs": []
    },
    {
      "cell_type": "code",
      "metadata": {
        "id": "lZX7PIA3-jVK",
        "colab_type": "code",
        "outputId": "567c49ae-0086-4621-8500-e7d376b868e2",
        "colab": {
          "base_uri": "https://localhost:8080/",
          "height": 286
        }
      },
      "source": [
        "plt.plot(results_train['loss'], label='train')\n",
        "plt.plot(results_valid['loss'], label='valid')\n",
        "plt.legend()"
      ],
      "execution_count": 0,
      "outputs": [
        {
          "output_type": "execute_result",
          "data": {
            "text/plain": [
              "<matplotlib.legend.Legend at 0x7f48ee17ab70>"
            ]
          },
          "metadata": {
            "tags": []
          },
          "execution_count": 27
        },
        {
          "output_type": "display_data",
          "data": {
            "image/png": "[encoded data removed]",
            "text/plain": [
              "<Figure size 432x288 with 1 Axes>"
            ]
          },
          "metadata": {
            "tags": []
          }
        }
      ]
    },
    {
      "cell_type": "code",
      "metadata": {
        "id": "zGTUPnWt-6uE",
        "colab_type": "code",
        "outputId": "cd6af01b-e282-4d02-ff89-371ed6a63a06",
        "colab": {
          "base_uri": "https://localhost:8080/",
          "height": 286
        }
      },
      "source": [
        "plt.plot(results_train['accuracy'], label='train')\n",
        "plt.plot(results_valid['accuracy'], label='valid')\n",
        "plt.legend()"
      ],
      "execution_count": 0,
      "outputs": [
        {
          "output_type": "execute_result",
          "data": {
            "text/plain": [
              "<matplotlib.legend.Legend at 0x7f48eb8b6390>"
            ]
          },
          "metadata": {
            "tags": []
          },
          "execution_count": 28
        },
        {
          "output_type": "display_data",
          "data": {
            "image/png": "[encoded data removed]",
            "text/plain": [
              "<Figure size 432x288 with 1 Axes>"
            ]
          },
          "metadata": {
            "tags": []
          }
        }
      ]
    },
    {
      "cell_type": "code",
      "metadata": {
        "id": "NVmBUj3f_MRw",
        "colab_type": "code",
        "colab": {}
      },
      "source": [
        "with chainer.using_config('train', False), chainer.using_config('enable_backprop', False):\n",
        "  y_test = net(x_test)"
      ],
      "execution_count": 0,
      "outputs": []
    },
    {
      "cell_type": "code",
      "metadata": {
        "id": "HuJyZd1D_prE",
        "colab_type": "code",
        "outputId": "3ee16681-121d-46b6-8466-e4f34538a387",
        "colab": {
          "base_uri": "https://localhost:8080/",
          "height": 34
        }
      },
      "source": [
        "accuracy_test = F.accuracy(y_test, t_test)\n",
        "accuracy_test.array"
      ],
      "execution_count": 0,
      "outputs": [
        {
          "output_type": "execute_result",
          "data": {
            "text/plain": [
              "array(0.7111111, dtype=float32)"
            ]
          },
          "metadata": {
            "tags": []
          },
          "execution_count": 30
        }
      ]
    },
    {
      "cell_type": "code",
      "metadata": {
        "id": "D5Y7R1nd_06Q",
        "colab_type": "code",
        "colab": {}
      },
      "source": [
        "chainer.serializers.save_npz('my_iris.net', net)"
      ],
      "execution_count": 0,
      "outputs": []
    },
    {
      "cell_type": "code",
      "metadata": {
        "id": "OFl5L3jJAJe0",
        "colab_type": "code",
        "outputId": "1faf7def-c3ef-435a-c5a2-6460a95c3c46",
        "colab": {
          "base_uri": "https://localhost:8080/",
          "height": 34
        }
      },
      "source": [
        "!ls"
      ],
      "execution_count": 0,
      "outputs": [
        {
          "output_type": "stream",
          "text": [
            "my_iris.net  sample_data\n"
          ],
          "name": "stdout"
        }
      ]
    },
    {
      "cell_type": "code",
      "metadata": {
        "id": "8NOfAFAIAKHv",
        "colab_type": "code",
        "colab": {}
      },
      "source": [
        "loaded_net = Sequential(\n",
        "    L.Linear(n_input, n_hidden), F.relu,\n",
        "    L.Linear(n_hidden, n_hidden), F.relu,\n",
        "    L.Linear(n_hidden, n_output)\n",
        ")"
      ],
      "execution_count": 0,
      "outputs": []
    },
    {
      "cell_type": "code",
      "metadata": {
        "id": "HLsuJSvWAlGp",
        "colab_type": "code",
        "colab": {}
      },
      "source": [
        "chainer.serializers.load_npz('my_iris.net', loaded_net)"
      ],
      "execution_count": 0,
      "outputs": []
    },
    {
      "cell_type": "code",
      "metadata": {
        "id": "Q4MH1hOWA0S5",
        "colab_type": "code",
        "colab": {}
      },
      "source": [
        "with chainer.using_config('train', False), chainer.using_config('enable_backprop', False):\n",
        "  y_test = loaded_net(x_test)"
      ],
      "execution_count": 0,
      "outputs": []
    },
    {
      "cell_type": "code",
      "metadata": {
        "id": "KmWncjc3BN65",
        "colab_type": "code",
        "outputId": "65e552e9-26d7-4f9a-fc29-8f9a759a34fd",
        "colab": {
          "base_uri": "https://localhost:8080/",
          "height": 34
        }
      },
      "source": [
        "np.argmax(y_test[0, :].array)"
      ],
      "execution_count": 0,
      "outputs": [
        {
          "output_type": "execute_result",
          "data": {
            "text/plain": [
              "2"
            ]
          },
          "metadata": {
            "tags": []
          },
          "execution_count": 36
        }
      ]
    },
    {
      "cell_type": "code",
      "metadata": {
        "id": "oiuVVXOLBgpo",
        "colab_type": "code",
        "colab": {}
      },
      "source": [
        ""
      ],
      "execution_count": 0,
      "outputs": []
    }
  ]
}