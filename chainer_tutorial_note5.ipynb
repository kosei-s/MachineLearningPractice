{
  "nbformat": 4,
  "nbformat_minor": 0,
  "metadata": {
    "colab": {
      "name": "chainer_tutorial_note5.ipynb",
      "provenance": [],
      "include_colab_link": true
    },
    "kernelspec": {
      "name": "python3",
      "display_name": "Python 3"
    },
    "accelerator": "GPU"
  },
  "cells": [
    {
      "cell_type": "markdown",
      "metadata": {
        "id": "view-in-github",
        "colab_type": "text"
      },
      "source": [
        "<a href=\"https://colab.research.google.com/github/kosei-s/MachineLearningPractice/blob/master/chainer_tutorial_note5.ipynb\" target=\"_parent\"><img src=\"https://colab.research.google.com/assets/colab-badge.svg\" alt=\"Open In Colab\"/></a>"
      ]
    },
    {
      "cell_type": "markdown",
      "metadata": {
        "id": "HGwL-i0rAw_B",
        "colab_type": "text"
      },
      "source": [
        "## 10章"
      ]
    },
    {
      "cell_type": "code",
      "metadata": {
        "id": "2l2LibwkA3iO",
        "colab_type": "code",
        "colab": {}
      },
      "source": [
        "import numpy as np\n",
        "import cupy as cp"
      ],
      "execution_count": 0,
      "outputs": []
    },
    {
      "cell_type": "code",
      "metadata": {
        "id": "HHRJjuqmBL5x",
        "colab_type": "code",
        "colab": {}
      },
      "source": [
        "def get_w_np(x, t):\n",
        "  return np.linalg.inv(x.T.dot(x)).dot(x.T).dot(t)"
      ],
      "execution_count": 0,
      "outputs": []
    },
    {
      "cell_type": "code",
      "metadata": {
        "id": "S2RJWYZXD4dP",
        "colab_type": "code",
        "outputId": "8c08d356-3952-419d-a035-246b62dbba13",
        "colab": {
          "base_uri": "https://localhost:8080/",
          "height": 187
        }
      },
      "source": [
        "N = 10\n",
        "\n",
        "x = np.random.rand(N, N)\n",
        "t = np.random.rand(N, 1)\n",
        "w = get_w_np(x, t)\n",
        "\n",
        "print(w)"
      ],
      "execution_count": 0,
      "outputs": [
        {
          "output_type": "stream",
          "text": [
            "[[-1.38109302]\n",
            " [-0.44175243]\n",
            " [-0.77751913]\n",
            " [ 2.00281533]\n",
            " [-2.13349892]\n",
            " [-1.45528867]\n",
            " [ 0.7220475 ]\n",
            " [ 0.72234294]\n",
            " [ 1.55890271]\n",
            " [ 1.94650841]]\n"
          ],
          "name": "stdout"
        }
      ]
    },
    {
      "cell_type": "code",
      "metadata": {
        "id": "iciLogC8rhpc",
        "colab_type": "code",
        "colab": {}
      },
      "source": [
        "import time"
      ],
      "execution_count": 0,
      "outputs": []
    },
    {
      "cell_type": "code",
      "metadata": {
        "id": "CAUHyGj-rywm",
        "colab_type": "code",
        "outputId": "c2143cba-ac2c-44ab-9795-57be0ddd1b86",
        "colab": {
          "base_uri": "https://localhost:8080/",
          "height": 34
        }
      },
      "source": [
        "time_start = time.time()\n",
        "\n",
        "w = get_w_np(x, t)\n",
        "\n",
        "time_end = time.time()\n",
        "\n",
        "elapsed_time = time_end - time_start\n",
        "\n",
        "print('{:.5f} sec'.format(elapsed_time))"
      ],
      "execution_count": 0,
      "outputs": [
        {
          "output_type": "stream",
          "text": [
            "0.00326 sec\n"
          ],
          "name": "stdout"
        }
      ]
    },
    {
      "cell_type": "code",
      "metadata": {
        "id": "P0c2s4U32JoF",
        "colab_type": "code",
        "outputId": "9045683b-0635-40e2-90be-a98ae1769743",
        "colab": {
          "base_uri": "https://localhost:8080/",
          "height": 85
        }
      },
      "source": [
        "times_cpu = []\n",
        "\n",
        "for N in [10, 100, 1000, 10000]:\n",
        "  np.random.seed(0)\n",
        "  x = np.random.rand(N, N)\n",
        "  t = np.random.rand(N, 1)\n",
        "  \n",
        "  time_start = time.time()\n",
        "  \n",
        "  w = get_w_np(x, t)\n",
        "  \n",
        "  time_end = time.time()\n",
        "  \n",
        "  elapsed_time = time_end - time_start\n",
        "  \n",
        "  print('N={:<5}:{:>8.5f} sec'.format(N, elapsed_time))\n",
        "  \n",
        "  times_cpu.append(elapsed_time)"
      ],
      "execution_count": 0,
      "outputs": [
        {
          "output_type": "stream",
          "text": [
            "N=10   : 0.00414 sec\n",
            "N=100  : 0.00946 sec\n",
            "N=1000 : 0.15164 sec\n",
            "N=10000:142.21193 sec\n"
          ],
          "name": "stdout"
        }
      ]
    },
    {
      "cell_type": "code",
      "metadata": {
        "id": "xX3NCfQ9EJwr",
        "colab_type": "code",
        "colab": {}
      },
      "source": [
        "def get_w_cp(x, t):\n",
        "  return cp.linalg.inv(x.T.dot(x)).dot(x.T).dot(t)"
      ],
      "execution_count": 0,
      "outputs": []
    },
    {
      "cell_type": "code",
      "metadata": {
        "id": "0i37l6iwE7CZ",
        "colab_type": "code",
        "colab": {}
      },
      "source": [
        "N = 10\n",
        "x_np = np.random.rand(N, N)\n",
        "t_np = np.random.rand(N, 1)"
      ],
      "execution_count": 0,
      "outputs": []
    },
    {
      "cell_type": "code",
      "metadata": {
        "id": "MUnNyUL8FSlY",
        "colab_type": "code",
        "colab": {}
      },
      "source": [
        "x_cp = cp.asarray(x_np)\n",
        "t_cp = cp.asarray(t_np)"
      ],
      "execution_count": 0,
      "outputs": []
    },
    {
      "cell_type": "code",
      "metadata": {
        "id": "H9N19xtmFY8r",
        "colab_type": "code",
        "colab": {}
      },
      "source": [
        "w_np = get_w_np(x_np, t_np)\n",
        "w_cp = get_w_cp(x_cp, t_cp)"
      ],
      "execution_count": 0,
      "outputs": []
    },
    {
      "cell_type": "code",
      "metadata": {
        "id": "q-gPm8KSFkC7",
        "colab_type": "code",
        "outputId": "b95d1ee6-47d1-40c3-fa08-b9a50c135d99",
        "colab": {
          "base_uri": "https://localhost:8080/",
          "height": 408
        }
      },
      "source": [
        "print('NumPy:\\n', w_np)\n",
        "print('\\nCuPy:\\n', w_cp)"
      ],
      "execution_count": 0,
      "outputs": [
        {
          "output_type": "stream",
          "text": [
            "NumPy:\n",
            " [[ 3.10913241]\n",
            " [-4.32028319]\n",
            " [ 1.09894125]\n",
            " [ 1.63321226]\n",
            " [ 1.25977854]\n",
            " [-0.89789306]\n",
            " [-0.87023945]\n",
            " [ 1.09654016]\n",
            " [ 1.19753311]\n",
            " [-1.3647516 ]]\n",
            "\n",
            "CuPy:\n",
            " [[ 3.10913241]\n",
            " [-4.32028319]\n",
            " [ 1.09894125]\n",
            " [ 1.63321226]\n",
            " [ 1.25977854]\n",
            " [-0.89789306]\n",
            " [-0.87023945]\n",
            " [ 1.09654016]\n",
            " [ 1.19753311]\n",
            " [-1.3647516 ]]\n"
          ],
          "name": "stdout"
        }
      ]
    },
    {
      "cell_type": "code",
      "metadata": {
        "id": "ucmKmiJFFwEq",
        "colab_type": "code",
        "outputId": "f3de8ea5-6928-41cf-9084-dde548dc51b5",
        "colab": {
          "base_uri": "https://localhost:8080/",
          "height": 85
        }
      },
      "source": [
        "times_gpu = []\n",
        "\n",
        "for N in [10, 100, 1000, 10000]:\n",
        "  cp.random.seed(0)\n",
        "  x = cp.random.rand(N, N)\n",
        "  t = cp.random.rand(N, 1)\n",
        "  \n",
        "  cp.cuda.Stream.null.synchronize()\n",
        "  \n",
        "  time_start = time.time()\n",
        "  \n",
        "  w = get_w_cp(x, t)\n",
        "  \n",
        "  cp.cuda.Stream.null.synchronize()\n",
        "  \n",
        "  time_end = time.time()\n",
        "  \n",
        "  elapsed_time = time_end - time_start\n",
        "  \n",
        "  print('N={:<5}:{:>8.5f} sec'.format(N, elapsed_time))\n",
        "  \n",
        "  times_gpu.append(elapsed_time)"
      ],
      "execution_count": 0,
      "outputs": [
        {
          "output_type": "stream",
          "text": [
            "N=10   : 0.00078 sec\n",
            "N=100  : 0.00312 sec\n",
            "N=1000 : 0.11783 sec\n",
            "N=10000:27.31598 sec\n"
          ],
          "name": "stdout"
        }
      ]
    },
    {
      "cell_type": "code",
      "metadata": {
        "id": "lbwjc1HSGmLQ",
        "colab_type": "code",
        "outputId": "c5b4eb71-7ba5-42ff-cca8-49bc371c10fc",
        "colab": {
          "base_uri": "https://localhost:8080/",
          "height": 119
        }
      },
      "source": [
        "import tabulate\n",
        "\n",
        "N = [10, 100, 1000, 10000]\n",
        "times_cpu = np.asarray(times_cpu)\n",
        "times_gpu = np.asarray(times_gpu)\n",
        "ratio = ['{:.2f} x'.format(r) for r in times_cpu / times_gpu]\n",
        "\n",
        "table = tabulate.tabulate(\n",
        "    zip(N, times_cpu, times_gpu, ratio),\n",
        "    headers = ['N', 'NumPyでの実行時間 (sec)', 'CuPy での実行時間 (sec)', '高速化倍率']\n",
        ")\n",
        "\n",
        "print(table)"
      ],
      "execution_count": 0,
      "outputs": [
        {
          "output_type": "stream",
          "text": [
            "    N    NumPyでの実行時間 (sec)    CuPy での実行時間 (sec)  高速化倍率\n",
            "-----  -------------------------  -------------------------  ------------\n",
            "   10                 0.00414228                0.000777483  5.33 x\n",
            "  100                 0.00946474                0.00312018   3.03 x\n",
            " 1000                 0.151636                  0.117833     1.29 x\n",
            "10000               142.212                    27.316        5.21 x\n"
          ],
          "name": "stdout"
        }
      ]
    },
    {
      "cell_type": "code",
      "metadata": {
        "id": "TZzI7eHGHyGA",
        "colab_type": "code",
        "colab": {}
      },
      "source": [
        ""
      ],
      "execution_count": 0,
      "outputs": []
    }
  ]
}